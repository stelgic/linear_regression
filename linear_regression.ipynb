{
 "cells": [
  {
   "cell_type": "code",
   "execution_count": 2,
   "metadata": {},
   "outputs": [],
   "source": [
    "# Importing necessary libraries\n",
    "import numpy as np\n",
    "import tensorflow as tf\n",
    "import matplotlib.pyplot as plt\n",
    "\n",
    "tf.random.set_seed(0)"
   ]
  },
  {
   "cell_type": "code",
   "execution_count": 3,
   "metadata": {},
   "outputs": [],
   "source": [
    "# Generating some sample data\n",
    "def generate_line(p1,p2,N=8):\n",
    "    m = (p2[1] - p1[1]) / (p1[0] - p2[0])\n",
    "    b = -p1[0] * m + p1[1]\n",
    "    x = np.array([p1[0],p2[0]],dtype=np.float)\n",
    "    y = np.array([p1[1],p2[1]],dtype=np.float)\n",
    "\n",
    "    #add random points along the line\n",
    "    xr = np.linspace(p1[0],p2[0],N, endpoint=True)\n",
    "    yr = np.round(np.interp(xr, x, y),3)\n",
    "    yn = yr + np.random.normal(0, 3,yr.shape[0])\n",
    "    yn = np.round(yn,3)\n",
    "\n",
    "    return [np.array([xr,yn]),np.array([xr,yr]),np.array([x,y])]"
   ]
  },
  {
   "cell_type": "code",
   "execution_count": 4,
   "metadata": {},
   "outputs": [],
   "source": [
    "# define train data generator\n",
    "def train_data_gen(sample=100):\n",
    "    while True:\n",
    "        p1 = [np.random.randint(-100,100),np.random.randint(-100,100)]\n",
    "        p2 = [p1[0] + np.random.randint(10,50), p1[1] + np.random.randint(-100,100)]\n",
    "\n",
    "        randpts = []\n",
    "        lines = []\n",
    "        pairs = []\n",
    "        \n",
    "        R,L,P = generate_line(p1,p2,sample)\n",
    "        randpts.append(R)\n",
    "        lines.append(L)\n",
    "        pairs.append(P)\n",
    "        \n",
    "        yield np.array(randpts), np.array(lines),np.array(pairs)"
   ]
  },
  {
   "cell_type": "code",
   "execution_count": 6,
   "metadata": {},
   "outputs": [
    {
     "data": {
      "image/png": "[encoded data removed]",
      "text/plain": [
       "<Figure size 432x288 with 1 Axes>"
      ]
     },
     "metadata": {
      "needs_background": "light"
     },
     "output_type": "display_data"
    }
   ],
   "source": [
    "# plot data sample\n",
    "batch_iter = train_data_gen(sample=20)\n",
    "noises,lines,points = next(batch_iter)\n",
    "\n",
    "# Plotting the results\n",
    "plt.scatter(noises[0][0], noises[0][1])\n",
    "plt.plot(lines[0][0], lines[0][1], color='red')\n",
    "\n",
    "plt.xlabel('X')\n",
    "plt.ylabel('y')\n",
    "plt.title('Linear Regression using TensorFlow Keras')\n",
    "plt.show()"
   ]
  },
  {
   "cell_type": "code",
   "execution_count": 7,
   "metadata": {},
   "outputs": [],
   "source": [
    "# Create a more complex model\n",
    "class PLRModel(tf.keras.Model):\n",
    "    def __init__(self, shape):\n",
    "        super().__init__()\n",
    "        self.atten = tf.keras.layers.MultiHeadAttention(num_heads=2, key_dim=2)\n",
    "        self.drop = tf.keras.layers.Dropout(0.01)\n",
    "        self.dense1 = tf.keras.layers.Dense(32, activation=\"linear\")\n",
    "        self.dense2 = tf.keras.layers.Dense(16, activation=\"linear\")\n",
    "        self.outputs = tf.keras.layers.Dense(2)\n",
    "\n",
    "    def call(self, inputs):\n",
    "        x = self.atten(inputs,inputs)\n",
    "        x = self.drop(x)\n",
    "        x = self.dense1(x)\n",
    "        x = self.dense2(x)\n",
    "        return self.outputs(x)\n",
    "    \n",
    "def line_loss(y_true, y_pred):\n",
    "    p1_true,p2_true = y_true[:,0:1,:],y_true[:,1:2,:]\n",
    "    p1_pred,p2_pred = y_pred[:,0:1,:],y_pred[:,1:2,:]\n",
    "    # compute line slope\n",
    "    x_true = p1_true[:,:,0] - p2_true[:,:,0]\n",
    "    x_pred = p1_pred[:,:,0] - p2_pred[:,:,0]\n",
    "    #m_true = tf.divide((p2_true[:,:,1] - p1_true[:,:,1]), x_true)\n",
    "    #m_pred = tf.divide((p2_pred[:,:,1] - p1_pred[:,:,1]), x_pred)\n",
    "    # compute vector\n",
    "    v_true = p2_true - p1_true\n",
    "    v_pred = p2_pred - p1_pred\n",
    "    \n",
    "    #compute p1,p2 and slope loss\n",
    "    loss_p1 = tf.reduce_mean(tf.square(p1_true - p1_pred))\n",
    "    loss_p2 = tf.reduce_mean(tf.square(p2_true - p2_pred))\n",
    "    loss_v = tf.reduce_mean(tf.square(v_true - v_pred))\n",
    "    #loss_a = tf.math.angle([v_true,v_pred])\n",
    "    \n",
    "    return  loss_p1 + loss_p2 + loss_v\n"
   ]
  },
  {
   "cell_type": "code",
   "execution_count": 8,
   "metadata": {},
   "outputs": [
    {
     "name": "stdout",
     "output_type": "stream",
     "text": [
      "(1, 2, 20)\n",
      "Model: \"plr_model\"\n",
      "_________________________________________________________________\n",
      "Layer (type)                 Output Shape              Param #   \n",
      "=================================================================\n",
      "multi_head_attention (MultiH multiple                  352       \n",
      "_________________________________________________________________\n",
      "dropout (Dropout)            multiple                  0         \n",
      "_________________________________________________________________\n",
      "dense (Dense)                multiple                  672       \n",
      "_________________________________________________________________\n",
      "dense_1 (Dense)              multiple                  528       \n",
      "_________________________________________________________________\n",
      "dense_2 (Dense)              multiple                  34        \n",
      "=================================================================\n",
      "Total params: 1,586\n",
      "Trainable params: 1,586\n",
      "Non-trainable params: 0\n",
      "_________________________________________________________________\n"
     ]
    },
    {
     "data": {
      "text/plain": [
       "<keras.callbacks.History at 0x1a3fb557fd0>"
      ]
     },
     "execution_count": 8,
     "metadata": {},
     "output_type": "execute_result"
    }
   ],
   "source": [
    "# train model\n",
    "n_sample = 20\n",
    "batch_size = 32\n",
    "inp_shape = (1,noises.shape[1],n_sample)\n",
    "print(inp_shape)\n",
    "model = PLRModel(inp_shape[1::])\n",
    "\n",
    "# Compiling the model\n",
    "model.compile(loss=line_loss, optimizer=\"adam\", metrics=['accuracy'])\n",
    "model.build(input_shape=inp_shape) \n",
    "model.summary()\n",
    "\n",
    "epochs = 20\n",
    "count = 10000\n",
    "x_smaples = []\n",
    "y_samples = []\n",
    "iter = train_data_gen(sample=n_sample)\n",
    "\n",
    "for i in range(count):    \n",
    "    npts,lpts,pts = next(iter)\n",
    "    #npts = np.reshape(np.transpose(npts),(n_sample,2))\n",
    "    #pts = np.reshape(pts,(-1,4))\n",
    "\n",
    "    x_smaples.append(npts[0])\n",
    "    y_samples.append(pts[0])        \n",
    "        \n",
    "# split data into train and validation\n",
    "split = count - (count // 4)\n",
    "X_train, X_val = np.array(x_smaples[:split]), np.array(x_smaples[split:])\n",
    "y_train, y_val = np.array(y_samples[:split]), np.array(y_samples[split:])\n",
    "# train model\n",
    "model.fit(X_train,y_train, epochs=epochs, batch_size=32, verbose=0)"
   ]
  },
  {
   "cell_type": "code",
   "execution_count": 9,
   "metadata": {},
   "outputs": [
    {
     "name": "stdout",
     "output_type": "stream",
     "text": [
      "79/79 [==============================] - 1s 7ms/step - loss: 1671.3470 - accuracy: 0.9590\n",
      "Mean Squared Error: [1671.3470458984375, 0.9589999914169312]\n"
     ]
    }
   ],
   "source": [
    "# Evaluate the model\n",
    "mse = model.evaluate(X_val, y_val)\n",
    "print(\"Mean Squared Error:\", mse)"
   ]
  },
  {
   "cell_type": "code",
   "execution_count": 50,
   "metadata": {},
   "outputs": [
    {
     "name": "stdout",
     "output_type": "stream",
     "text": [
      "[[[ -9.  27.]\n",
      "  [-45. -75.]]]\n",
      "[[-10.172441  21.904642]\n",
      " [-45.090282 -71.68759 ]]\n"
     ]
    },
    {
     "data": {
      "image/png": "[encoded data removed]",
      "text/plain": [
       "<Figure size 432x288 with 1 Axes>"
      ]
     },
     "metadata": {
      "needs_background": "light"
     },
     "output_type": "display_data"
    }
   ],
   "source": [
    "# Making predictions\n",
    "data_iter = train_data_gen(sample=n_sample)\n",
    "npts_test,_,pts_test = next(iter)\n",
    "line_pred = model.predict(npts_test)\n",
    "line_pred = line_pred[0]\n",
    "print(pts_test)\n",
    "print(line_pred)\n",
    "\n",
    "# Plotting the results\n",
    "plt.scatter(npts_test[0][0], npts_test[0][1])\n",
    "plt.plot(line_pred[0],line_pred[1], color='red')\n",
    "\n",
    "plt.xlabel('X')\n",
    "plt.ylabel('y')\n",
    "plt.title('Linear Regression using TensorFlow Keras')\n",
    "plt.show()"
   ]
  }
 ],
 "metadata": {
  "kernelspec": {
   "display_name": "tfbuild",
   "language": "python",
   "name": "python3"
  },
  "language_info": {
   "codemirror_mode": {
    "name": "ipython",
    "version": 3
   },
   "file_extension": ".py",
   "mimetype": "text/x-python",
   "name": "python",
   "nbconvert_exporter": "python",
   "pygments_lexer": "ipython3",
   "version": "3.6.13"
  }
 },
 "nbformat": 4,
 "nbformat_minor": 2
}
